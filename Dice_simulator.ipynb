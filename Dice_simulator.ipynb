{
  "nbformat": 4,
  "nbformat_minor": 0,
  "metadata": {
    "colab": {
      "provenance": [],
      "authorship_tag": "ABX9TyMLc9CnNq6vel69tioIfGtO"
    },
    "kernelspec": {
      "name": "python3",
      "display_name": "Python 3"
    },
    "language_info": {
      "name": "python"
    }
  },
  "cells": [
    {
      "cell_type": "code",
      "execution_count": 1,
      "metadata": {
        "colab": {
          "base_uri": "https://localhost:8080/"
        },
        "id": "uyIF3Q4_AeAf",
        "outputId": "aed1fe41-5ebc-4d46-8a8d-908f14fa284f"
      },
      "outputs": [
        {
          "name": "stdout",
          "output_type": "stream",
          "text": [
            "[---------]\n",
            "[ 0     0 ]\n",
            "[    0    ]\n",
            "[ 0     0 ]\n",
            "[---------]\n",
            "Press y to Roll Again and Press Any Other Key for Exit:y\n",
            "[---------]\n",
            "[         ]\n",
            "[ 0  0  0 ]\n",
            "[         ]\n",
            "[---------]\n",
            "Press y to Roll Again and Press Any Other Key for Exit:g\n"
          ]
        }
      ],
      "source": [
        "import random\n",
        "x=\"y\"\n",
        "\n",
        "while x==\"y\":\n",
        "    random_number=random.randint(1,6)\n",
        "\n",
        "    if random_number==1:\n",
        "        print(\"[---------]\")\n",
        "        print(\"[         ]\")\n",
        "        print(\"[    0    ]\")\n",
        "        print(\"[         ]\")\n",
        "        print(\"[---------]\")\n",
        "\n",
        "    elif random_number==2:\n",
        "        print(\"[---------]\")\n",
        "        print(\"[  0      ]\")\n",
        "        print(\"[         ]\")\n",
        "        print(\"[      0  ]\")\n",
        "        print(\"[---------]\")\n",
        "\n",
        "    elif random_number==3:\n",
        "        print(\"[---------]\")\n",
        "        print(\"[         ]\")\n",
        "        print(\"[ 0  0  0 ]\")\n",
        "        print(\"[         ]\")\n",
        "        print(\"[---------]\")\n",
        "\n",
        "    elif random_number==4:\n",
        "        print(\"[---------]\")\n",
        "        print(\"[ 0     0 ]\")\n",
        "        print(\"[         ]\")\n",
        "        print(\"[ 0     0 ]\")\n",
        "        print(\"[---------]\")\n",
        "\n",
        "    elif random_number==5:\n",
        "        print(\"[---------]\")\n",
        "        print(\"[ 0     0 ]\")\n",
        "        print(\"[    0    ]\")\n",
        "        print(\"[ 0     0 ]\")\n",
        "        print(\"[---------]\")\n",
        "\n",
        "    elif random_number==6:\n",
        "        print(\"[---------]\")\n",
        "        print(\"[ 0  0  0 ]\")\n",
        "        print(\"[         ]\")\n",
        "        print(\"[ 0  0  0 ]\")\n",
        "        print(\"[---------]\")\n",
        "\n",
        "    x=input(\"Press y to Roll Again and Press Any Other Key for Exit:\")"
      ]
    }
  ]
}