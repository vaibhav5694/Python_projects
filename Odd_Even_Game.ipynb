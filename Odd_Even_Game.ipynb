{
  "nbformat": 4,
  "nbformat_minor": 0,
  "metadata": {
    "colab": {
      "provenance": [],
      "authorship_tag": "ABX9TyMqbj2SL9EADrzgKONAdo0A"
    },
    "kernelspec": {
      "name": "python3",
      "display_name": "Python 3"
    },
    "language_info": {
      "name": "python"
    }
  },
  "cells": [
    {
      "cell_type": "code",
      "execution_count": null,
      "metadata": {
        "colab": {
          "base_uri": "https://localhost:8080/"
        },
        "id": "dEy9R2MW6s6n",
        "outputId": "c43922da-191e-439f-c7ad-e2b3807600ec"
      },
      "outputs": [
        {
          "output_type": "stream",
          "name": "stdout",
          "text": [
            "Tell us any number that you can think of!\n",
            "54\n",
            "54  is an even number\n",
            "Thanks for playing!\n",
            "None\n",
            "None\n",
            "Would you like to play again? Type \"1\" if yes and \"0\" if no.0\n",
            "Alright, thanks for playing!\n"
          ]
        }
      ],
      "source": [
        "def oddeven(n):\n",
        "    n = int(n)\n",
        "    if n % 2 ==0:\n",
        "        print(n, \" is an even number\")\n",
        "    else:\n",
        "        print(n, \" is an odd number\")\n",
        "    print(\"Thanks for playing!\")\n",
        "\n",
        "def user():\n",
        "    global s\n",
        "    s= input(\"Tell us any number that you can think of!\\n\")\n",
        "    print(oddeven(s))\n",
        "print(user())\n",
        "\n",
        "f=1\n",
        "while f>0:\n",
        "    f = int(input(\"Would you like to play again? Type \\\"1\\\" if yes and \\\"0\\\" if no.\"))\n",
        "    if f==1:\n",
        "        print(\"Hope you enjoy the game once more!\")\n",
        "        print(user())\n",
        "    elif f == 0:\n",
        "        print(\"Alright, thanks for playing!\")\n",
        "        break;\n",
        "    else:\n",
        "        print(\"Sorry we do not accept that answer.\")\n",
        "        break;"
      ]
    },
    {
      "cell_type": "code",
      "source": [],
      "metadata": {
        "id": "POQCpabq6xw7"
      },
      "execution_count": null,
      "outputs": []
    },
    {
      "cell_type": "code",
      "source": [],
      "metadata": {
        "id": "npyaALG36x6C"
      },
      "execution_count": null,
      "outputs": []
    },
    {
      "cell_type": "code",
      "source": [],
      "metadata": {
        "id": "LMQps2jx6x79"
      },
      "execution_count": null,
      "outputs": []
    },
    {
      "cell_type": "code",
      "source": [],
      "metadata": {
        "id": "p204hv7o6x_g"
      },
      "execution_count": null,
      "outputs": []
    },
    {
      "cell_type": "code",
      "source": [],
      "metadata": {
        "id": "ptLZe3vz6yGE"
      },
      "execution_count": null,
      "outputs": []
    },
    {
      "cell_type": "code",
      "source": [],
      "metadata": {
        "id": "NLlc2jmd6twm"
      },
      "execution_count": null,
      "outputs": []
    },
    {
      "cell_type": "code",
      "source": [],
      "metadata": {
        "id": "Q3l5dBLj6tzS"
      },
      "execution_count": null,
      "outputs": []
    },
    {
      "cell_type": "code",
      "source": [],
      "metadata": {
        "id": "vElIR7xG6t1K"
      },
      "execution_count": null,
      "outputs": []
    },
    {
      "cell_type": "code",
      "source": [],
      "metadata": {
        "id": "yvSQR-v96t4a"
      },
      "execution_count": null,
      "outputs": []
    }
  ]
}